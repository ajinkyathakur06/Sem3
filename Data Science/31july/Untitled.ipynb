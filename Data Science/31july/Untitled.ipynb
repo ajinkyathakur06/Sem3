{
 "cells": [
  {
   "cell_type": "code",
   "execution_count": 5,
   "id": "fc7ed9dc-44c6-440c-8807-c33daf92b982",
   "metadata": {},
   "outputs": [],
   "source": [
    "import csv"
   ]
  },
  {
   "cell_type": "code",
   "execution_count": 6,
   "id": "44786908-edf5-41ef-bb30-9ca541fbf796",
   "metadata": {},
   "outputs": [
    {
     "name": "stdout",
     "output_type": "stream",
     "text": [
      "['ï»¿YearsOfExperince', 'Salary']\n",
      "['8', '24466']\n",
      "['6', '89365']\n",
      "['8', '56709']\n",
      "['8', '44499']\n",
      "['3', '33037']\n",
      "['5', '40064']\n",
      "['2', '99202']\n",
      "['4', '72067']\n",
      "['6', '46603']\n",
      "['9', '77170']\n",
      "['7', '57917']\n",
      "['3', '27244']\n",
      "['9', '23536']\n",
      "['3', '82648']\n",
      "['2', '90203']\n",
      "['4', '95805']\n",
      "['8', '43617']\n",
      "['9', '79731']\n",
      "['10', '86310']\n",
      "['1', '66248']\n",
      "['5', '47528']\n",
      "['10', '14934']\n",
      "['2', '82474']\n",
      "['5', '99696']\n",
      "['7', '96431']\n",
      "['9', '76718']\n",
      "['4', '84581']\n",
      "['3', '68143']\n",
      "['2', '53376']\n",
      "['2', '80409']\n",
      "['4', '75207']\n",
      "['1', '13255']\n",
      "['7', '22107']\n",
      "['4', '13879']\n"
     ]
    }
   ],
   "source": [
    "with open('D:/SEM 3/Data Science/Test_Data.csv','r') as file:\n",
    "    reader = csv.reader(file)\n",
    "    for row in reader:\n",
    "        print(row)"
   ]
  },
  {
   "cell_type": "code",
   "execution_count": 10,
   "id": "4fe419a4-44b8-47e0-8a05-f270b2a634eb",
   "metadata": {},
   "outputs": [
    {
     "name": "stdout",
     "output_type": "stream",
     "text": [
      "YearsOfExperince    int64\n",
      "Salary              int64\n",
      "dtype: object\n"
     ]
    }
   ],
   "source": [
    "import pandas as pd \n",
    "data = pd.read_csv('D:/SEM 3/Data Science/Test_Data.csv')\n",
    "print(data.dtypes)"
   ]
  },
  {
   "cell_type": "code",
   "execution_count": 11,
   "id": "1f7f66df-8188-4377-800c-43b1346bf292",
   "metadata": {},
   "outputs": [
    {
     "name": "stdout",
     "output_type": "stream",
     "text": [
      "(34, 2)\n"
     ]
    }
   ],
   "source": [
    "print(data.shape)"
   ]
  },
  {
   "cell_type": "code",
   "execution_count": 12,
   "id": "1844c12a-f4f6-4c3b-9c01-7e0eac490439",
   "metadata": {},
   "outputs": [
    {
     "name": "stdout",
     "output_type": "stream",
     "text": [
      "       YearsOfExperince        Salary\n",
      "count         34.000000     34.000000\n",
      "mean           5.294118  60740.558824\n",
      "std            2.801833  27593.360236\n",
      "min            1.000000  13255.000000\n",
      "25%            3.000000  40952.250000\n",
      "50%            5.000000  67195.500000\n",
      "75%            8.000000  82604.500000\n",
      "max           10.000000  99696.000000\n"
     ]
    }
   ],
   "source": [
    "print(data.describe())"
   ]
  },
  {
   "cell_type": "code",
   "execution_count": 13,
   "id": "aeb56e0b-8885-4943-bda2-b68b2a05d0fe",
   "metadata": {},
   "outputs": [
    {
     "name": "stdout",
     "output_type": "stream",
     "text": [
      "YearsOfExperince    0.161831\n",
      "Salary             -0.326289\n",
      "dtype: float64\n"
     ]
    }
   ],
   "source": [
    "print(data.skew())"
   ]
  },
  {
   "cell_type": "code",
   "execution_count": 14,
   "id": "80183a30",
   "metadata": {},
   "outputs": [],
   "source": [
    "from numpy import set_printoptions\n",
    "from sklearn import preprocessing"
   ]
  },
  {
   "cell_type": "code",
   "execution_count": null,
   "id": "75e26b53",
   "metadata": {},
   "outputs": [
    {
     "ename": "NameError",
     "evalue": "name 'array' is not defined",
     "output_type": "error",
     "traceback": [
      "\u001b[31m---------------------------------------------------------------------------\u001b[39m",
      "\u001b[31mNameError\u001b[39m                                 Traceback (most recent call last)",
      "\u001b[36mCell\u001b[39m\u001b[36m \u001b[39m\u001b[32mIn[15]\u001b[39m\u001b[32m, line 2\u001b[39m\n\u001b[32m      1\u001b[39m data_scaler = preprocessing.MinMaxScaler(feature_range=(\u001b[32m0\u001b[39m, \u001b[32m1\u001b[39m))\n\u001b[32m----> \u001b[39m\u001b[32m2\u001b[39m data_rescaled = data_scaler.fit_transform(\u001b[43marray\u001b[49m)\n",
      "\u001b[31mNameError\u001b[39m: name 'array' is not defined"
     ]
    }
   ],
   "source": [
    "data_scaler = preprocessing.MinMaxScaler(feature_range=(0, 1))\n",
    "data_rescaled = data_scaler.fit_transform(Array)"
   ]
  },
  {
   "cell_type": "code",
   "execution_count": 17,
   "id": "3566de87",
   "metadata": {},
   "outputs": [
    {
     "ename": "NameError",
     "evalue": "name 'array' is not defined",
     "output_type": "error",
     "traceback": [
      "\u001b[31m---------------------------------------------------------------------------\u001b[39m",
      "\u001b[31mNameError\u001b[39m                                 Traceback (most recent call last)",
      "\u001b[36mCell\u001b[39m\u001b[36m \u001b[39m\u001b[32mIn[17]\u001b[39m\u001b[32m, line 2\u001b[39m\n\u001b[32m      1\u001b[39m \u001b[38;5;28;01mfrom\u001b[39;00m\u001b[38;5;250m \u001b[39m\u001b[34;01msklearn\u001b[39;00m\u001b[34;01m.\u001b[39;00m\u001b[34;01mpreprocessing\u001b[39;00m\u001b[38;5;250m \u001b[39m\u001b[38;5;28;01mimport\u001b[39;00m Normalizer\n\u001b[32m----> \u001b[39m\u001b[32m2\u001b[39m data_normalizer = Normalizer(norm=\u001b[33m'\u001b[39m\u001b[33ml2\u001b[39m\u001b[33m'\u001b[39m).fit(\u001b[43marray\u001b[49m)\n\u001b[32m      3\u001b[39m data_normalized = data_normalizer.transform(array)\n",
      "\u001b[31mNameError\u001b[39m: name 'array' is not defined"
     ]
    }
   ],
   "source": [
    "from sklearn.preprocessing import Normalizer\n",
    "data_normalizer = Normalizer(norm='l2').fit(array)\n",
    "data_normalized = data_normalizer.transform(array)"
   ]
  },
  {
   "cell_type": "code",
   "execution_count": 16,
   "id": "df280f40",
   "metadata": {},
   "outputs": [
    {
     "ename": "NameError",
     "evalue": "name 'data_normalized' is not defined",
     "output_type": "error",
     "traceback": [
      "\u001b[31m---------------------------------------------------------------------------\u001b[39m",
      "\u001b[31mNameError\u001b[39m                                 Traceback (most recent call last)",
      "\u001b[36mCell\u001b[39m\u001b[36m \u001b[39m\u001b[32mIn[16]\u001b[39m\u001b[32m, line 2\u001b[39m\n\u001b[32m      1\u001b[39m set_printoptions(precision=\u001b[32m2\u001b[39m)\n\u001b[32m----> \u001b[39m\u001b[32m2\u001b[39m \u001b[38;5;28mprint\u001b[39m(\u001b[33m\"\u001b[39m\u001b[38;5;130;01m\\n\u001b[39;00m\u001b[33m Normalized Data: \u001b[39m\u001b[38;5;130;01m\\n\u001b[39;00m\u001b[33m\"\u001b[39m, \u001b[43mdata_normalized\u001b[49m[\u001b[32m0\u001b[39m:\u001b[32m3\u001b[39m])\n",
      "\u001b[31mNameError\u001b[39m: name 'data_normalized' is not defined"
     ]
    }
   ],
   "source": [
    "set_printoptions(precision=2)\n",
    "print(\"\\n Normalized Data: \\n\", data_normalized[0:3])\n"
   ]
  }
 ],
 "metadata": {
  "kernelspec": {
   "display_name": "Python 3",
   "language": "python",
   "name": "python3"
  },
  "language_info": {
   "codemirror_mode": {
    "name": "ipython",
    "version": 3
   },
   "file_extension": ".py",
   "mimetype": "text/x-python",
   "name": "python",
   "nbconvert_exporter": "python",
   "pygments_lexer": "ipython3",
   "version": "3.12.6"
  }
 },
 "nbformat": 4,
 "nbformat_minor": 5
}
